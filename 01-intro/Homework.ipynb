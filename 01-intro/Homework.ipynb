{
 "cells": [
  {
   "cell_type": "code",
   "execution_count": null,
   "id": "4d3d7741",
   "metadata": {},
   "outputs": [],
   "source": [
    "import pandas as pd\n",
    "import sklearn"
   ]
  },
  {
   "cell_type": "code",
   "execution_count": null,
   "id": "3cbf2d7b",
   "metadata": {},
   "outputs": [],
   "source": [
    "df = pd.read_parquet(\"https://d37ci6vzurychx.cloudfront.net/trip-data/yellow_tripdata_2024-01.parquet\")"
   ]
  },
  {
   "cell_type": "code",
   "execution_count": null,
   "id": "e9f3d3e9",
   "metadata": {},
   "outputs": [],
   "source": [
    "df.shape"
   ]
  },
  {
   "cell_type": "code",
   "execution_count": null,
   "id": "7f7ada01",
   "metadata": {},
   "outputs": [],
   "source": [
    "df.tpep_dropoff_datetime = pd.to_datetime(df.tpep_dropoff_datetime)\n",
    "df.tpep_pickup_datetime = pd.to_datetime(df.tpep_pickup_datetime)\n",
    "df[\"duration\"] = df.tpep_dropoff_datetime - df.tpep_pickup_datetime\n",
    "df.duration = df.duration.apply(lambda td: td.total_seconds() / 60)"
   ]
  },
  {
   "cell_type": "code",
   "execution_count": null,
   "id": "181b1ce0",
   "metadata": {},
   "outputs": [],
   "source": [
    "df.duration.describe()"
   ]
  },
  {
   "cell_type": "code",
   "execution_count": null,
   "id": "a2d25b1d",
   "metadata": {},
   "outputs": [],
   "source": [
    "df.head()"
   ]
  },
  {
   "cell_type": "code",
   "execution_count": null,
   "id": "3c4f6c2a",
   "metadata": {},
   "outputs": [],
   "source": [
    "df_filtered = df[(df.duration >= 1) & (df.duration <= 60)]\n",
    "(df.shape[0] - df_filtered.shape[0]) / df.shape[0]\n",
    "df_train = df[[\"duration\", \"PULocationID\", \"DOLocationID\"]]\n",
    "df_train[[\"PULocationID\", \"DOLocationID\"]] = df_train[[\"PULocationID\", \"DOLocationID\"]].astype(str)"
   ]
  },
  {
   "cell_type": "code",
   "execution_count": null,
   "id": "b17a9f7a",
   "metadata": {},
   "outputs": [],
   "source": [
    "from sklearn.feature_extraction import DictVectorizer"
   ]
  },
  {
   "cell_type": "code",
   "execution_count": null,
   "id": "997a6cbd",
   "metadata": {},
   "outputs": [],
   "source": [
    "dv = DictVectorizer()"
   ]
  },
  {
   "cell_type": "code",
   "execution_count": null,
   "id": "df63962c",
   "metadata": {},
   "outputs": [],
   "source": [
    "train_dict = df_train.to_dict(orient=\"records\")"
   ]
  },
  {
   "cell_type": "code",
   "execution_count": null,
   "id": "dc4951ad",
   "metadata": {},
   "outputs": [],
   "source": [
    "X_train = dv.fit_transform(train_dict)"
   ]
  },
  {
   "cell_type": "code",
   "execution_count": null,
   "id": "505ab1ee",
   "metadata": {},
   "outputs": [],
   "source": [
    "len(dv.feature_names_)"
   ]
  },
  {
   "cell_type": "code",
   "execution_count": null,
   "id": "378ddd2a",
   "metadata": {},
   "outputs": [],
   "source": [
    "y_train = df_train[\"duration\"].values"
   ]
  },
  {
   "cell_type": "code",
   "execution_count": null,
   "id": "0ee1aa1c",
   "metadata": {},
   "outputs": [],
   "source": [
    "from sklearn.linear_model import LinearRegression"
   ]
  },
  {
   "cell_type": "code",
   "execution_count": null,
   "id": "3677b1cc",
   "metadata": {},
   "outputs": [],
   "source": [
    "lr = LinearRegression()"
   ]
  },
  {
   "cell_type": "code",
   "execution_count": null,
   "id": "66651857",
   "metadata": {},
   "outputs": [],
   "source": [
    "lr.fit(X_train, y_train)"
   ]
  },
  {
   "cell_type": "code",
   "execution_count": null,
   "id": "5c42da0b",
   "metadata": {},
   "outputs": [],
   "source": [
    "train_predictions = lr.predict(X_train)"
   ]
  },
  {
   "cell_type": "code",
   "execution_count": null,
   "id": "559ccdb6",
   "metadata": {},
   "outputs": [],
   "source": [
    "from sklearn.metrics import mean_squared_error"
   ]
  },
  {
   "cell_type": "code",
   "execution_count": null,
   "id": "5caf03b5",
   "metadata": {},
   "outputs": [],
   "source": [
    "mean_squared_error(y_train, train_predictions, squared=False)"
   ]
  },
  {
   "cell_type": "code",
   "execution_count": null,
   "id": "2b312a95",
   "metadata": {},
   "outputs": [],
   "source": [
    "df_validation = pd.read_parquet(\"https://d37ci6vzurychx.cloudfront.net/trip-data/yellow_tripdata_2024-02.parquet\")"
   ]
  },
  {
   "cell_type": "code",
   "execution_count": null,
   "id": "5d541ccd",
   "metadata": {},
   "outputs": [],
   "source": [
    "df_validation.tpep_dropoff_datetime = pd.to_datetime(df_validation.tpep_dropoff_datetime)\n",
    "df_validation.tpep_pickup_datetime = pd.to_datetime(df_validation.tpep_pickup_datetime)\n",
    "df_validation[\"duration\"] = df_validation.tpep_dropoff_datetime - df_validation.tpep_pickup_datetime\n",
    "df_validation.duration = df_validation.duration.apply(lambda td: td.total_seconds() / 60)"
   ]
  },
  {
   "cell_type": "code",
   "execution_count": null,
   "id": "610e75ad",
   "metadata": {},
   "outputs": [],
   "source": [
    "df_validation_filtered = df_validation[(df_validation.duration >= 1) & (df_validation.duration <= 60)]\n",
    "df_validation_filtered = df_validation_filtered[[\"duration\", \"PULocationID\", \"DOLocationID\"]]\n",
    "df_validation[[\"PULocationID\", \"DOLocationID\"]] = df_validation[[\"PULocationID\", \"DOLocationID\"]].astype(str)"
   ]
  },
  {
   "cell_type": "code",
   "execution_count": null,
   "id": "c47325a6",
   "metadata": {},
   "outputs": [],
   "source": [
    "X_valid = dv.fit_transform(df_validation.to_dict(orient=\"records\"))"
   ]
  },
  {
   "cell_type": "code",
   "execution_count": null,
   "id": "c03c21ec",
   "metadata": {},
   "outputs": [],
   "source": [
    "y_valid = df_validation[\"duration\"].values"
   ]
  },
  {
   "cell_type": "code",
   "execution_count": null,
   "id": "6d5e5223",
   "metadata": {},
   "outputs": [],
   "source": [
    "valid_predict = lr.predict(X_valid)"
   ]
  },
  {
   "cell_type": "code",
   "execution_count": null,
   "id": "761f979c",
   "metadata": {},
   "outputs": [],
   "source": [
    "mean_squared_error(y_valid, valid_predict, squared=False)"
   ]
  }
 ],
 "metadata": {
  "kernelspec": {
   "display_name": "Python 3 (ipykernel)",
   "language": "python",
   "name": "python3"
  },
  "language_info": {
   "codemirror_mode": {
    "name": "ipython",
    "version": 3
   },
   "file_extension": ".py",
   "mimetype": "text/x-python",
   "name": "python",
   "nbconvert_exporter": "python",
   "pygments_lexer": "ipython3",
   "version": "3.9.12"
  }
 },
 "nbformat": 4,
 "nbformat_minor": 5
}
